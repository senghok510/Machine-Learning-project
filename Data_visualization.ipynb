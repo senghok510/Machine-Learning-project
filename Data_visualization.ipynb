{
 "cells": [
  {
   "cell_type": "markdown",
   "metadata": {
    "id": "0TApxwvvPfd1"
   },
   "source": [
    "# <font color=#023F7C> **Data Visualization** </font>\n",
    "\n",
    "<font color=#023F7C>**Hi! PARIS DataBootcamp 2024 🚀**</font> <br>\n",
    "\n",
    "\n",
    "<img src = https://www.hi-paris.fr/wp-content/uploads/2020/09/logo-hi-paris-retina.png width = \"300\" height = \"200\" >\n",
    "\n",
    "**Name**: SENG Hok          <br>\n",
    "**School**: Ecole polytechnique         <br>\n",
    "**Group number**: 24    <br>\n",
    "**Track**: Beginner"
   ]
  },
  {
   "cell_type": "markdown",
   "metadata": {},
   "source": [
    "**<font size='4'><u>Goal of this practical session</u>**</font> <br>\n",
    "\n",
    "The goal of this practical session is create plots using the olympic games data you cleaned during the Data Cleaning practical session. <br>These plots should allow you to discover and visualize interesting patterns in the data."
   ]
  },
  {
   "cell_type": "markdown",
   "metadata": {},
   "source": [
    "**<font size='4'><u>What is Data visualization ? 📝</u>**</font> <br>\n",
    "\n",
    "**Data visualization** is the representation of data and information in graphical or visual formats. <br>\n",
    "It involves creating visualizations such as charts, graphs, maps, and other visual elements to help understand patterns, trends, and relationships within the data.\n",
    "\n",
    "Data visualization is a fundamental component of **Exploratory Data Analysis** (EDA). It is often used for:\n",
    "- **Data Understanding**: Data visualization provides a way to quickly grasp the distribution, central tendency, dispersion, and other key characteristics of the data. By visualizing the data, analysts can detect outliers, gaps, clusters, and potential issues that might not be immediately apparent from the raw data.\n",
    "- **Pattern Discovery**: Visualizations help to identify patterns and trends that might not be obvious in tabular or raw data formats. Patterns that emerge from visualizations can lead to hypotheses or guide further analysis.\n",
    "- **Relationship Exploration**: Visualization can reveal relationships between variables, such as correlations or dependencies, which can be vital for understanding how different factors interact with each other."
   ]
  },
  {
   "cell_type": "markdown",
   "metadata": {},
   "source": [
    "**<font size='4'><u>Bootcamp deliverables 💯</u>**</font> <br>\n",
    "\n",
    "Send both the notebooks and the slides at `data-event@hi-paris.fr`\n",
    "\n",
    "- <u>**Friday 12:30 PM**</u>: <br> **Send us the \"Data visualisation\" and \"Machine Learning, Explainability and Deep Learning\" notebooks (no need to send us data cleaning)** \n",
    "    - **Each group member should send his own notebooks** (we won't accept one notebook per group)\n",
    "    - Don't forget to complete the start of the notebook with your information (name, school, group number and track)\n",
    "    \n",
    "    <br>\n",
    "    \n",
    "- <u>**Friday 2:30PM**</u>: <br>**Send us the group slides**<br>\n",
    "    - You can send us a single powerpoint per group (no need to send us one per group member)\n",
    "    - Don't forget to add your group number as well as who is in your group (name, school and track) to the slides"
   ]
  },
  {
   "cell_type": "markdown",
   "metadata": {
    "id": "ovztwlxNPfd4"
   },
   "source": [
    "**<font size='4'><u>Before you start to working on this notebook ⚠️</u>**</font> <br>\n",
    "\n",
    "Please download/copy this notebook from `hfactory_magic_folders\\course` and drop it into your own directory `my_work` on HFactory. <br>\n",
    "If you don't, you won't be able to save the modifications you've made on this notebook."
   ]
  },
  {
   "cell_type": "code",
   "execution_count": 2,
   "metadata": {
    "executionInfo": {
     "elapsed": 5581,
     "status": "ok",
     "timestamp": 1723468115320,
     "user": {
      "displayName": "Pierre-antoine AMIAND-LEROY",
      "userId": "12056388955665945864"
     },
     "user_tz": -120
    },
    "id": "69uD-ifouERt",
    "tags": []
   },
   "outputs": [],
   "source": [
    "import pandas as pd\n",
    "import numpy as np\n",
    "import plotly.express as px\n",
    "import matplotlib.pyplot as plt\n",
    "import seaborn as sns\n",
    "\n",
    "pd.set_option('display.max_columns', None) #Show all columns"
   ]
  },
  {
   "cell_type": "markdown",
   "metadata": {
    "id": "69ibJQJSxzrp"
   },
   "source": [
    "## 1. Import the cleaned data\n",
    "\n",
    "\n"
   ]
  },
  {
   "cell_type": "markdown",
   "metadata": {
    "id": "-zNYENe5Pfd7"
   },
   "source": [
    "**Question 1:** <br>\n",
    "**Load the dataframe you cleaned in the `Data_cleaning.ipynb` notebook and saved as `athlete_events_clean.csv`**\n"
   ]
  },
  {
   "cell_type": "markdown",
   "metadata": {},
   "source": [
    "*If you haven't finished the data cleaning notebook, please go back to it before starting this practical session. <br> Don't forget to also save the cleaned dataset, as you will need for this session.*\n",
    "\n",
    "*If you are having **difficulties with data cleaning**, you can run the following two cells loading a clean dataset. <br>\n",
    "These cells will load the original dataset as `dataset` and clean it using the `data_preparation` and `preparation` functions.<br>*"
   ]
  },
  {
   "cell_type": "code",
   "execution_count": 3,
   "metadata": {
    "id": "nCjj8L45ZgM1",
    "tags": []
   },
   "outputs": [],
   "source": [
    "# Run the following two cells if you don't want to or can't use the dataframe you cleaned in Monday's notebook.\n",
    "\n",
    "def data_preparation(path=r'~/hfactory_magic_folders/course/data/athlete_events.csv'):\n",
    "  dataset = pd.read_csv(path)\n",
    "  dataset[\"Medal\"] = dataset[\"Medal\"].fillna(\"None\")\n",
    "  dataset = dataset.dropna(subset=['Height','Weight']).reset_index(drop=True)\n",
    "  fill_age = int(dataset[\"Age\"].mean())\n",
    "  dataset[\"Age\"] = dataset[\"Age\"].fillna(fill_age)\n",
    "  return dataset\n",
    "\n",
    "dataset = data_preparation()"
   ]
  },
  {
   "cell_type": "code",
   "execution_count": 4,
   "metadata": {
    "id": "MFJqFSv2xzWW",
    "tags": []
   },
   "outputs": [],
   "source": [
    "def preparation(dataset):\n",
    "  regions = pd.read_csv(r'~/hfactory_magic_folders/course/data/noc_regions.csv')\n",
    "  dataset[\"Medal\"] = dataset[\"Medal\"].fillna(\"None\")\n",
    "  dataset = dataset.dropna(subset=['Height','Weight']).reset_index(drop=True)\n",
    "  fill_age = int(dataset[\"Age\"].mean())\n",
    "  dataset[\"Age\"] = dataset[\"Age\"].fillna(fill_age)\n",
    "\n",
    "  dict_regions = dict(zip(regions[\"NOC\"].to_list(), regions[\"region\"].to_list()))\n",
    "  countries = dataset[\"NOC\"].map(dict_regions)\n",
    "  dataset.insert(8, \"Country\", countries) ##Add other ? add beter ?\n",
    "  dict_host_country = {\n",
    "    \"Seoul\":\"South Korea\",\n",
    "    \"Barcelona\":\"Spain\",\n",
    "    \"Atlanta\":\"USA\",\n",
    "    \"Sydney\":\"Australia\",\n",
    "    \"Athina\":\"Greece\",\n",
    "    \"Beijing\":\"China\",\n",
    "    \"Melbourne\":\"Australia\",\n",
    "    \"Los Angeles\":'USA',\n",
    "    \"St. Louis\": 'USA',\n",
    "    \"Moskva\":\"Russia\",\n",
    "    \"Montreal\":\"Canada\",\n",
    "    \"Munich\" :\"Germany\",\n",
    "    \"Berlin\":\"Germany\",\n",
    "    \"Mexico City\":\"Mexico\",\n",
    "    \"Tokyo\":\"Japan\",\n",
    "    \"Roma\":\"Italy\",\n",
    "    \"Paris\":\"France\",\n",
    "    \"Helsinki\": \"Finland\",\n",
    "    \"Amsterdam\":\"Netherlands\",\n",
    "    \"Antwerpen\": \"Belgium\",\n",
    "    \"Stockholm\": \"Sweden\",\n",
    "    \"Rio de Janeiro\":\"Brazil\",\n",
    "    \"London\":\"UK\"}\n",
    "  dataset[\"Host_country\"] = dataset[\"City\"].map(dict_host_country)\n",
    "  dataset[\"Won_host_country\"] = dataset[\"Host_country\"] == dataset[\"Country\"]\n",
    "  dataset.reset_index(drop=True, inplace=True)\n",
    "  return dataset\n",
    "\n",
    "dataset = preparation(dataset)"
   ]
  },
  {
   "cell_type": "markdown",
   "metadata": {},
   "source": [
    "Don't run the previous three cells if you are using your own cleaned data. <br>\n",
    "Use the following cell to do so."
   ]
  },
  {
   "cell_type": "code",
   "execution_count": 5,
   "metadata": {
    "tags": []
   },
   "outputs": [
    {
     "data": {
      "text/html": [
       "<div>\n",
       "<style scoped>\n",
       "    .dataframe tbody tr th:only-of-type {\n",
       "        vertical-align: middle;\n",
       "    }\n",
       "\n",
       "    .dataframe tbody tr th {\n",
       "        vertical-align: top;\n",
       "    }\n",
       "\n",
       "    .dataframe thead th {\n",
       "        text-align: right;\n",
       "    }\n",
       "</style>\n",
       "<table border=\"1\" class=\"dataframe\">\n",
       "  <thead>\n",
       "    <tr style=\"text-align: right;\">\n",
       "      <th></th>\n",
       "      <th>ID</th>\n",
       "      <th>Name</th>\n",
       "      <th>Sex</th>\n",
       "      <th>Age</th>\n",
       "      <th>Height</th>\n",
       "      <th>Weight</th>\n",
       "      <th>Team</th>\n",
       "      <th>NOC</th>\n",
       "      <th>Country</th>\n",
       "      <th>Games</th>\n",
       "      <th>Year</th>\n",
       "      <th>Season</th>\n",
       "      <th>City</th>\n",
       "      <th>Sport</th>\n",
       "      <th>Event</th>\n",
       "      <th>Medal</th>\n",
       "      <th>Host_country</th>\n",
       "      <th>Won_host_country</th>\n",
       "    </tr>\n",
       "  </thead>\n",
       "  <tbody>\n",
       "    <tr>\n",
       "      <th>206848</th>\n",
       "      <td>135569</td>\n",
       "      <td>Andrzej ya</td>\n",
       "      <td>M</td>\n",
       "      <td>29.0</td>\n",
       "      <td>179.0</td>\n",
       "      <td>89.0</td>\n",
       "      <td>Poland-1</td>\n",
       "      <td>POL</td>\n",
       "      <td>Poland</td>\n",
       "      <td>1976 Winter</td>\n",
       "      <td>1976</td>\n",
       "      <td>Winter</td>\n",
       "      <td>Innsbruck</td>\n",
       "      <td>Luge</td>\n",
       "      <td>Luge Mixed (Men)'s Doubles</td>\n",
       "      <td>None</td>\n",
       "      <td>NaN</td>\n",
       "      <td>False</td>\n",
       "    </tr>\n",
       "    <tr>\n",
       "      <th>206849</th>\n",
       "      <td>135570</td>\n",
       "      <td>Piotr ya</td>\n",
       "      <td>M</td>\n",
       "      <td>27.0</td>\n",
       "      <td>176.0</td>\n",
       "      <td>59.0</td>\n",
       "      <td>Poland</td>\n",
       "      <td>POL</td>\n",
       "      <td>Poland</td>\n",
       "      <td>2014 Winter</td>\n",
       "      <td>2014</td>\n",
       "      <td>Winter</td>\n",
       "      <td>Sochi</td>\n",
       "      <td>Ski Jumping</td>\n",
       "      <td>Ski Jumping Men's Large Hill, Individual</td>\n",
       "      <td>None</td>\n",
       "      <td>NaN</td>\n",
       "      <td>False</td>\n",
       "    </tr>\n",
       "    <tr>\n",
       "      <th>206850</th>\n",
       "      <td>135570</td>\n",
       "      <td>Piotr ya</td>\n",
       "      <td>M</td>\n",
       "      <td>27.0</td>\n",
       "      <td>176.0</td>\n",
       "      <td>59.0</td>\n",
       "      <td>Poland</td>\n",
       "      <td>POL</td>\n",
       "      <td>Poland</td>\n",
       "      <td>2014 Winter</td>\n",
       "      <td>2014</td>\n",
       "      <td>Winter</td>\n",
       "      <td>Sochi</td>\n",
       "      <td>Ski Jumping</td>\n",
       "      <td>Ski Jumping Men's Large Hill, Team</td>\n",
       "      <td>None</td>\n",
       "      <td>NaN</td>\n",
       "      <td>False</td>\n",
       "    </tr>\n",
       "    <tr>\n",
       "      <th>206851</th>\n",
       "      <td>135571</td>\n",
       "      <td>Tomasz Ireneusz ya</td>\n",
       "      <td>M</td>\n",
       "      <td>30.0</td>\n",
       "      <td>185.0</td>\n",
       "      <td>96.0</td>\n",
       "      <td>Poland</td>\n",
       "      <td>POL</td>\n",
       "      <td>Poland</td>\n",
       "      <td>1998 Winter</td>\n",
       "      <td>1998</td>\n",
       "      <td>Winter</td>\n",
       "      <td>Nagano</td>\n",
       "      <td>Bobsleigh</td>\n",
       "      <td>Bobsleigh Men's Four</td>\n",
       "      <td>None</td>\n",
       "      <td>NaN</td>\n",
       "      <td>False</td>\n",
       "    </tr>\n",
       "    <tr>\n",
       "      <th>206852</th>\n",
       "      <td>135571</td>\n",
       "      <td>Tomasz Ireneusz ya</td>\n",
       "      <td>M</td>\n",
       "      <td>34.0</td>\n",
       "      <td>185.0</td>\n",
       "      <td>96.0</td>\n",
       "      <td>Poland</td>\n",
       "      <td>POL</td>\n",
       "      <td>Poland</td>\n",
       "      <td>2002 Winter</td>\n",
       "      <td>2002</td>\n",
       "      <td>Winter</td>\n",
       "      <td>Salt Lake City</td>\n",
       "      <td>Bobsleigh</td>\n",
       "      <td>Bobsleigh Men's Four</td>\n",
       "      <td>None</td>\n",
       "      <td>NaN</td>\n",
       "      <td>False</td>\n",
       "    </tr>\n",
       "  </tbody>\n",
       "</table>\n",
       "</div>"
      ],
      "text/plain": [
       "            ID                Name Sex   Age  Height  Weight      Team  NOC  \\\n",
       "206848  135569          Andrzej ya   M  29.0   179.0    89.0  Poland-1  POL   \n",
       "206849  135570            Piotr ya   M  27.0   176.0    59.0    Poland  POL   \n",
       "206850  135570            Piotr ya   M  27.0   176.0    59.0    Poland  POL   \n",
       "206851  135571  Tomasz Ireneusz ya   M  30.0   185.0    96.0    Poland  POL   \n",
       "206852  135571  Tomasz Ireneusz ya   M  34.0   185.0    96.0    Poland  POL   \n",
       "\n",
       "       Country        Games  Year  Season            City        Sport  \\\n",
       "206848  Poland  1976 Winter  1976  Winter       Innsbruck         Luge   \n",
       "206849  Poland  2014 Winter  2014  Winter           Sochi  Ski Jumping   \n",
       "206850  Poland  2014 Winter  2014  Winter           Sochi  Ski Jumping   \n",
       "206851  Poland  1998 Winter  1998  Winter          Nagano    Bobsleigh   \n",
       "206852  Poland  2002 Winter  2002  Winter  Salt Lake City    Bobsleigh   \n",
       "\n",
       "                                           Event Medal Host_country  \\\n",
       "206848                Luge Mixed (Men)'s Doubles  None          NaN   \n",
       "206849  Ski Jumping Men's Large Hill, Individual  None          NaN   \n",
       "206850        Ski Jumping Men's Large Hill, Team  None          NaN   \n",
       "206851                      Bobsleigh Men's Four  None          NaN   \n",
       "206852                      Bobsleigh Men's Four  None          NaN   \n",
       "\n",
       "        Won_host_country  \n",
       "206848             False  \n",
       "206849             False  \n",
       "206850             False  \n",
       "206851             False  \n",
       "206852             False  "
      ]
     },
     "execution_count": 5,
     "metadata": {},
     "output_type": "execute_result"
    }
   ],
   "source": [
    "# Load your own clean data \n",
    "dataset.tail()"
   ]
  },
  {
   "cell_type": "markdown",
   "metadata": {},
   "source": [
    "## 2. Create visualization plots"
   ]
  },
  {
   "cell_type": "markdown",
   "metadata": {
    "id": "B01ALIBXPfd8"
   },
   "source": [
    "**Question 2**: <br>\n",
    "**Display the pie chart of the proportion of each unique value of 'Medal' (print the %)** <br>\n",
    "\n",
    "*<u>Help</u>: Go to https://python-graph-gallery.com/pie-plot/ to find examples of pie plots.* <br>\n",
    "- *You can use Pandas' `.value_counts()` function to get the proportion of each unique value*\n",
    "- *You can use the parameter `autopct=\"%.2f%%\"` to get the percentage instead of the count in `plt.pie()`*\n",
    "- *You can also use pandas' `.plot.pie()` function to plot from a dataframe*"
   ]
  },
  {
   "cell_type": "code",
   "execution_count": 6,
   "metadata": {
    "id": "F1ZRu8gqsaHG",
    "tags": []
   },
   "outputs": [
    {
     "data": {
      "text/plain": [
       "Text(0.5, 1.0, 'Proportion of Each Medal Type')"
      ]
     },
     "execution_count": 6,
     "metadata": {},
     "output_type": "execute_result"
    },
    {
     "data": {
      "image/png": "[encoded data removed]",
      "text/plain": [
       "<Figure size 640x480 with 1 Axes>"
      ]
     },
     "metadata": {},
     "output_type": "display_data"
    }
   ],
   "source": [
    "medal_counts = dataset.value_counts(\"Medal\")\n",
    "\n",
    "medal_counts.plot.pie(autopct=\"%.2f%%\", colors =[\"grey\",\"yellow\",\"brown\",\"silver\"])\n",
    "plt.title('Proportion of Each Medal Type')"
   ]
  },
  {
   "cell_type": "code",
   "execution_count": 7,
   "metadata": {
    "tags": []
   },
   "outputs": [
    {
     "data": {
      "text/plain": [
       "([<matplotlib.patches.Wedge at 0x7f6eb1851720>,\n",
       "  <matplotlib.patches.Wedge at 0x7f6eb1851600>,\n",
       "  <matplotlib.patches.Wedge at 0x7f6eb18522f0>],\n",
       " [Text(0.5397933801431496, 0.9584482806879218, 'Gold'),\n",
       "  Text(-1.0994854537697154, -0.03364129826274827, 'Bronze'),\n",
       "  Text(0.568853103626018, -0.9414914479139186, 'Silver')],\n",
       " [Text(0.2944327528053543, 0.5227899712843209, '33.67%'),\n",
       "  Text(-0.5997193384198447, -0.018349799052408144, '33.63%'),\n",
       "  Text(0.3102835110687371, -0.5135407897712283, '32.70%')])"
      ]
     },
     "execution_count": 7,
     "metadata": {},
     "output_type": "execute_result"
    },
    {
     "data": {
      "image/png": "[encoded data removed]",
      "text/plain": [
       "<Figure size 640x480 with 1 Axes>"
      ]
     },
     "metadata": {},
     "output_type": "display_data"
    }
   ],
   "source": [
    "\n",
    "Count_medal=dataset['Medal'].value_counts().to_frame(\"count\").reset_index()\n",
    "Count_medal_nonone=Count_medal[Count_medal['Medal']!='None']\n",
    "plt.pie(Count_medal_nonone['count'], labels=Count_medal_nonone['Medal'],autopct=\"%.2f%%\")\n"
   ]
  },
  {
   "cell_type": "markdown",
   "metadata": {
    "id": "pjMtL3gZDFad"
   },
   "source": [
    "**Question 3**: <br>\n",
    "**Print the number of medal for each OG in Summer and after in Winter.**\n",
    "You can use 'sns.barplot'.\n",
    "\n",
    "First, you have to create a new column, \"has_medal\", which is equal to 1 if an athelte won a medal, 0 if not.\n",
    "\n",
    "(Optional question) : Show the labels of the bars with a 80° degree rotation\n",
    "\n",
    "\n"
   ]
  },
  {
   "cell_type": "code",
   "execution_count": 8,
   "metadata": {
    "id": "KCqvroH7sccs",
    "tags": []
   },
   "outputs": [],
   "source": [
    "def my_function(medal):\n",
    "    if medal == 'None':\n",
    "        return 0\n",
    "    return 1"
   ]
  },
  {
   "cell_type": "code",
   "execution_count": 9,
   "metadata": {
    "tags": []
   },
   "outputs": [],
   "source": [
    "dataset['has_medal'] = dataset['Medal'].apply(my_function)"
   ]
  },
  {
   "cell_type": "code",
   "execution_count": 10,
   "metadata": {
    "tags": []
   },
   "outputs": [],
   "source": [
    "dataset['has_medal'] = dataset['Medal'].apply(lambda x: 0 if x == \"None\" else 1)"
   ]
  },
  {
   "cell_type": "code",
   "execution_count": 11,
   "metadata": {
    "tags": []
   },
   "outputs": [],
   "source": [
    "dataset_season = dataset[['Season','Year','has_medal']].groupby(['Season','Year']).sum().reset_index()"
   ]
  },
  {
   "cell_type": "code",
   "execution_count": 12,
   "metadata": {
    "tags": []
   },
   "outputs": [
    {
     "data": {
      "text/html": [
       "<div>\n",
       "<style scoped>\n",
       "    .dataframe tbody tr th:only-of-type {\n",
       "        vertical-align: middle;\n",
       "    }\n",
       "\n",
       "    .dataframe tbody tr th {\n",
       "        vertical-align: top;\n",
       "    }\n",
       "\n",
       "    .dataframe thead th {\n",
       "        text-align: right;\n",
       "    }\n",
       "</style>\n",
       "<table border=\"1\" class=\"dataframe\">\n",
       "  <thead>\n",
       "    <tr style=\"text-align: right;\">\n",
       "      <th></th>\n",
       "      <th>Season</th>\n",
       "      <th>Year</th>\n",
       "      <th>has_medal</th>\n",
       "    </tr>\n",
       "  </thead>\n",
       "  <tbody>\n",
       "    <tr>\n",
       "      <th>0</th>\n",
       "      <td>Summer</td>\n",
       "      <td>1896</td>\n",
       "      <td>20</td>\n",
       "    </tr>\n",
       "    <tr>\n",
       "      <th>1</th>\n",
       "      <td>Summer</td>\n",
       "      <td>1900</td>\n",
       "      <td>38</td>\n",
       "    </tr>\n",
       "    <tr>\n",
       "      <th>2</th>\n",
       "      <td>Summer</td>\n",
       "      <td>1904</td>\n",
       "      <td>60</td>\n",
       "    </tr>\n",
       "    <tr>\n",
       "      <th>3</th>\n",
       "      <td>Summer</td>\n",
       "      <td>1906</td>\n",
       "      <td>69</td>\n",
       "    </tr>\n",
       "    <tr>\n",
       "      <th>4</th>\n",
       "      <td>Summer</td>\n",
       "      <td>1908</td>\n",
       "      <td>138</td>\n",
       "    </tr>\n",
       "    <tr>\n",
       "      <th>5</th>\n",
       "      <td>Summer</td>\n",
       "      <td>1912</td>\n",
       "      <td>131</td>\n",
       "    </tr>\n",
       "    <tr>\n",
       "      <th>6</th>\n",
       "      <td>Summer</td>\n",
       "      <td>1920</td>\n",
       "      <td>183</td>\n",
       "    </tr>\n",
       "    <tr>\n",
       "      <th>7</th>\n",
       "      <td>Summer</td>\n",
       "      <td>1924</td>\n",
       "      <td>170</td>\n",
       "    </tr>\n",
       "    <tr>\n",
       "      <th>8</th>\n",
       "      <td>Summer</td>\n",
       "      <td>1928</td>\n",
       "      <td>164</td>\n",
       "    </tr>\n",
       "    <tr>\n",
       "      <th>9</th>\n",
       "      <td>Summer</td>\n",
       "      <td>1932</td>\n",
       "      <td>166</td>\n",
       "    </tr>\n",
       "    <tr>\n",
       "      <th>10</th>\n",
       "      <td>Summer</td>\n",
       "      <td>1936</td>\n",
       "      <td>170</td>\n",
       "    </tr>\n",
       "    <tr>\n",
       "      <th>11</th>\n",
       "      <td>Summer</td>\n",
       "      <td>1948</td>\n",
       "      <td>182</td>\n",
       "    </tr>\n",
       "    <tr>\n",
       "      <th>12</th>\n",
       "      <td>Summer</td>\n",
       "      <td>1952</td>\n",
       "      <td>278</td>\n",
       "    </tr>\n",
       "    <tr>\n",
       "      <th>13</th>\n",
       "      <td>Summer</td>\n",
       "      <td>1956</td>\n",
       "      <td>507</td>\n",
       "    </tr>\n",
       "    <tr>\n",
       "      <th>14</th>\n",
       "      <td>Summer</td>\n",
       "      <td>1960</td>\n",
       "      <td>886</td>\n",
       "    </tr>\n",
       "    <tr>\n",
       "      <th>15</th>\n",
       "      <td>Summer</td>\n",
       "      <td>1964</td>\n",
       "      <td>1020</td>\n",
       "    </tr>\n",
       "    <tr>\n",
       "      <th>16</th>\n",
       "      <td>Summer</td>\n",
       "      <td>1968</td>\n",
       "      <td>1055</td>\n",
       "    </tr>\n",
       "    <tr>\n",
       "      <th>17</th>\n",
       "      <td>Summer</td>\n",
       "      <td>1972</td>\n",
       "      <td>1203</td>\n",
       "    </tr>\n",
       "    <tr>\n",
       "      <th>18</th>\n",
       "      <td>Summer</td>\n",
       "      <td>1976</td>\n",
       "      <td>1303</td>\n",
       "    </tr>\n",
       "    <tr>\n",
       "      <th>19</th>\n",
       "      <td>Summer</td>\n",
       "      <td>1980</td>\n",
       "      <td>1377</td>\n",
       "    </tr>\n",
       "    <tr>\n",
       "      <th>20</th>\n",
       "      <td>Summer</td>\n",
       "      <td>1984</td>\n",
       "      <td>1463</td>\n",
       "    </tr>\n",
       "    <tr>\n",
       "      <th>21</th>\n",
       "      <td>Summer</td>\n",
       "      <td>1988</td>\n",
       "      <td>1576</td>\n",
       "    </tr>\n",
       "    <tr>\n",
       "      <th>22</th>\n",
       "      <td>Summer</td>\n",
       "      <td>1992</td>\n",
       "      <td>1523</td>\n",
       "    </tr>\n",
       "    <tr>\n",
       "      <th>23</th>\n",
       "      <td>Summer</td>\n",
       "      <td>1996</td>\n",
       "      <td>1717</td>\n",
       "    </tr>\n",
       "    <tr>\n",
       "      <th>24</th>\n",
       "      <td>Summer</td>\n",
       "      <td>2000</td>\n",
       "      <td>1993</td>\n",
       "    </tr>\n",
       "    <tr>\n",
       "      <th>25</th>\n",
       "      <td>Summer</td>\n",
       "      <td>2004</td>\n",
       "      <td>2000</td>\n",
       "    </tr>\n",
       "    <tr>\n",
       "      <th>26</th>\n",
       "      <td>Summer</td>\n",
       "      <td>2008</td>\n",
       "      <td>2035</td>\n",
       "    </tr>\n",
       "    <tr>\n",
       "      <th>27</th>\n",
       "      <td>Summer</td>\n",
       "      <td>2012</td>\n",
       "      <td>1915</td>\n",
       "    </tr>\n",
       "    <tr>\n",
       "      <th>28</th>\n",
       "      <td>Summer</td>\n",
       "      <td>2016</td>\n",
       "      <td>2014</td>\n",
       "    </tr>\n",
       "    <tr>\n",
       "      <th>29</th>\n",
       "      <td>Winter</td>\n",
       "      <td>1924</td>\n",
       "      <td>16</td>\n",
       "    </tr>\n",
       "    <tr>\n",
       "      <th>30</th>\n",
       "      <td>Winter</td>\n",
       "      <td>1928</td>\n",
       "      <td>6</td>\n",
       "    </tr>\n",
       "    <tr>\n",
       "      <th>31</th>\n",
       "      <td>Winter</td>\n",
       "      <td>1932</td>\n",
       "      <td>10</td>\n",
       "    </tr>\n",
       "    <tr>\n",
       "      <th>32</th>\n",
       "      <td>Winter</td>\n",
       "      <td>1936</td>\n",
       "      <td>23</td>\n",
       "    </tr>\n",
       "    <tr>\n",
       "      <th>33</th>\n",
       "      <td>Winter</td>\n",
       "      <td>1948</td>\n",
       "      <td>13</td>\n",
       "    </tr>\n",
       "    <tr>\n",
       "      <th>34</th>\n",
       "      <td>Winter</td>\n",
       "      <td>1952</td>\n",
       "      <td>24</td>\n",
       "    </tr>\n",
       "    <tr>\n",
       "      <th>35</th>\n",
       "      <td>Winter</td>\n",
       "      <td>1956</td>\n",
       "      <td>84</td>\n",
       "    </tr>\n",
       "    <tr>\n",
       "      <th>36</th>\n",
       "      <td>Winter</td>\n",
       "      <td>1960</td>\n",
       "      <td>91</td>\n",
       "    </tr>\n",
       "    <tr>\n",
       "      <th>37</th>\n",
       "      <td>Winter</td>\n",
       "      <td>1964</td>\n",
       "      <td>158</td>\n",
       "    </tr>\n",
       "    <tr>\n",
       "      <th>38</th>\n",
       "      <td>Winter</td>\n",
       "      <td>1968</td>\n",
       "      <td>195</td>\n",
       "    </tr>\n",
       "    <tr>\n",
       "      <th>39</th>\n",
       "      <td>Winter</td>\n",
       "      <td>1972</td>\n",
       "      <td>199</td>\n",
       "    </tr>\n",
       "    <tr>\n",
       "      <th>40</th>\n",
       "      <td>Winter</td>\n",
       "      <td>1976</td>\n",
       "      <td>195</td>\n",
       "    </tr>\n",
       "    <tr>\n",
       "      <th>41</th>\n",
       "      <td>Winter</td>\n",
       "      <td>1980</td>\n",
       "      <td>195</td>\n",
       "    </tr>\n",
       "    <tr>\n",
       "      <th>42</th>\n",
       "      <td>Winter</td>\n",
       "      <td>1984</td>\n",
       "      <td>220</td>\n",
       "    </tr>\n",
       "    <tr>\n",
       "      <th>43</th>\n",
       "      <td>Winter</td>\n",
       "      <td>1988</td>\n",
       "      <td>251</td>\n",
       "    </tr>\n",
       "    <tr>\n",
       "      <th>44</th>\n",
       "      <td>Winter</td>\n",
       "      <td>1992</td>\n",
       "      <td>311</td>\n",
       "    </tr>\n",
       "    <tr>\n",
       "      <th>45</th>\n",
       "      <td>Winter</td>\n",
       "      <td>1994</td>\n",
       "      <td>324</td>\n",
       "    </tr>\n",
       "    <tr>\n",
       "      <th>46</th>\n",
       "      <td>Winter</td>\n",
       "      <td>1998</td>\n",
       "      <td>437</td>\n",
       "    </tr>\n",
       "    <tr>\n",
       "      <th>47</th>\n",
       "      <td>Winter</td>\n",
       "      <td>2002</td>\n",
       "      <td>477</td>\n",
       "    </tr>\n",
       "    <tr>\n",
       "      <th>48</th>\n",
       "      <td>Winter</td>\n",
       "      <td>2006</td>\n",
       "      <td>526</td>\n",
       "    </tr>\n",
       "    <tr>\n",
       "      <th>49</th>\n",
       "      <td>Winter</td>\n",
       "      <td>2010</td>\n",
       "      <td>515</td>\n",
       "    </tr>\n",
       "    <tr>\n",
       "      <th>50</th>\n",
       "      <td>Winter</td>\n",
       "      <td>2014</td>\n",
       "      <td>570</td>\n",
       "    </tr>\n",
       "  </tbody>\n",
       "</table>\n",
       "</div>"
      ],
      "text/plain": [
       "    Season  Year  has_medal\n",
       "0   Summer  1896         20\n",
       "1   Summer  1900         38\n",
       "2   Summer  1904         60\n",
       "3   Summer  1906         69\n",
       "4   Summer  1908        138\n",
       "5   Summer  1912        131\n",
       "6   Summer  1920        183\n",
       "7   Summer  1924        170\n",
       "8   Summer  1928        164\n",
       "9   Summer  1932        166\n",
       "10  Summer  1936        170\n",
       "11  Summer  1948        182\n",
       "12  Summer  1952        278\n",
       "13  Summer  1956        507\n",
       "14  Summer  1960        886\n",
       "15  Summer  1964       1020\n",
       "16  Summer  1968       1055\n",
       "17  Summer  1972       1203\n",
       "18  Summer  1976       1303\n",
       "19  Summer  1980       1377\n",
       "20  Summer  1984       1463\n",
       "21  Summer  1988       1576\n",
       "22  Summer  1992       1523\n",
       "23  Summer  1996       1717\n",
       "24  Summer  2000       1993\n",
       "25  Summer  2004       2000\n",
       "26  Summer  2008       2035\n",
       "27  Summer  2012       1915\n",
       "28  Summer  2016       2014\n",
       "29  Winter  1924         16\n",
       "30  Winter  1928          6\n",
       "31  Winter  1932         10\n",
       "32  Winter  1936         23\n",
       "33  Winter  1948         13\n",
       "34  Winter  1952         24\n",
       "35  Winter  1956         84\n",
       "36  Winter  1960         91\n",
       "37  Winter  1964        158\n",
       "38  Winter  1968        195\n",
       "39  Winter  1972        199\n",
       "40  Winter  1976        195\n",
       "41  Winter  1980        195\n",
       "42  Winter  1984        220\n",
       "43  Winter  1988        251\n",
       "44  Winter  1992        311\n",
       "45  Winter  1994        324\n",
       "46  Winter  1998        437\n",
       "47  Winter  2002        477\n",
       "48  Winter  2006        526\n",
       "49  Winter  2010        515\n",
       "50  Winter  2014        570"
      ]
     },
     "execution_count": 12,
     "metadata": {},
     "output_type": "execute_result"
    }
   ],
   "source": [
    "dataset[['Season','Year','has_medal']].groupby(['Season','Year']).sum().reset_index()"
   ]
  },
  {
   "cell_type": "code",
   "execution_count": 13,
   "metadata": {
    "id": "-N8I7bMKscPf",
    "tags": []
   },
   "outputs": [
    {
     "data": {
      "image/png": "[encoded data removed]",
      "text/plain": [
       "<Figure size 1500x800 with 1 Axes>"
      ]
     },
     "metadata": {},
     "output_type": "display_data"
    }
   ],
   "source": [
    "dataset_summer = dataset[dataset[\"Season\"]==\"Summer\"]\n",
    "dataset_summer.head()\n",
    "\n",
    "summer_medals = dataset_summer.groupby([\"Year\"])[\"has_medal\"].sum().reset_index()\n",
    "\n",
    "plt.figure(figsize=(15,8))\n",
    "plt.title(\"Number of medals in Summer OG\")\n",
    "chart = sns.barplot(x = 'Year',\n",
    "            y = 'has_medal',\n",
    "            data = summer_medals)\n",
    "for i in chart.containers:\n",
    "    chart.bar_label(i,rotation = 0)\n",
    "plt.show()\n"
   ]
  },
  {
   "cell_type": "code",
   "execution_count": 14,
   "metadata": {
    "id": "DjdXI0E9scMO",
    "tags": []
   },
   "outputs": [
    {
     "data": {
      "image/png": "[encoded data removed]",
      "text/plain": [
       "<Figure size 1200x800 with 1 Axes>"
      ]
     },
     "metadata": {},
     "output_type": "display_data"
    }
   ],
   "source": [
    "dataset_winter = dataset[dataset[\"Season\"]==\"Winter\"]\n",
    "dataset_winter.head()\n",
    "\n",
    "winter_medals = dataset_winter.groupby([\"Year\"])[\"has_medal\"].sum().reset_index()\n",
    "\n",
    "plt.figure(figsize=(12,8))\n",
    "chart = sns.barplot(x = 'Year',\n",
    "            y = 'has_medal',\n",
    "            data = winter_medals)\n",
    "for i in chart.containers:\n",
    "    chart.bar_label(i,rotation = 0)\n",
    "plt.show()"
   ]
  },
  {
   "cell_type": "code",
   "execution_count": null,
   "metadata": {
    "id": "LkMOGObpscJ4"
   },
   "outputs": [],
   "source": []
  },
  {
   "cell_type": "markdown",
   "metadata": {
    "id": "GLdS5cn4vFeu"
   },
   "source": [
    "**Question 4**: <br>\n",
    "**Show the average number of medals won when a country hosts the Olympic Games and when it does not.** <br>\n",
    "**But for this question, take only the summer Olympics after 1950.**\n",
    "\n"
   ]
  },
  {
   "cell_type": "code",
   "execution_count": 16,
   "metadata": {
    "id": "yKiB7NH5se1A",
    "tags": []
   },
   "outputs": [],
   "source": [
    "summer_after50 = dataset[(dataset[\"Season\"] == \"Summer\") & (dataset[\"Year\"] >= 1950)]\n",
    "\n",
    "\n",
    "\n",
    "\n",
    "host_list = summer_after50[summer_after50['Won_host_country']==True]['Country'].unique()\n",
    "\n",
    "df_hosted = summer_after50[summer_after50['Country'].isin(host_list)].groupby(['Country','Year','Won_host_country'])['has_medal'].sum().reset_index()\n"
   ]
  },
  {
   "cell_type": "code",
   "execution_count": null,
   "metadata": {
    "tags": []
   },
   "outputs": [],
   "source": []
  },
  {
   "cell_type": "code",
   "execution_count": 17,
   "metadata": {
    "tags": []
   },
   "outputs": [
    {
     "name": "stdout",
     "output_type": "stream",
     "text": [
      "Average number of medals won when a country hosted the summer OG is 122\n"
     ]
    }
   ],
   "source": [
    "hostwon_mean = int(df_hosted[df_hosted['Won_host_country'] == True]['has_medal'].mean())\n",
    "print(\"Average number of medals won when a country hosted the summer OG is\",hostwon_mean)"
   ]
  },
  {
   "cell_type": "code",
   "execution_count": 18,
   "metadata": {
    "tags": []
   },
   "outputs": [
    {
     "name": "stdout",
     "output_type": "stream",
     "text": [
      "Average number of medals won when a country did not host the summer OG is 54\n"
     ]
    }
   ],
   "source": [
    "nonhostwon_mean = int(df_hosted[df_hosted['Won_host_country'] == False]['has_medal'].mean())\n",
    "print(\"Average number of medals won when a country did not host the summer OG is\",nonhostwon_mean)"
   ]
  },
  {
   "cell_type": "markdown",
   "metadata": {
    "id": "LBDtZTTRAaF6"
   },
   "source": [
    "**Question 4 bis**: <br>\n",
    " Why are the averages so high?\n",
    "\n"
   ]
  },
  {
   "cell_type": "code",
   "execution_count": 19,
   "metadata": {
    "id": "jS4JnkNLsjfO",
    "tags": []
   },
   "outputs": [
    {
     "data": {
      "text/plain": [
       "Sport\n",
       "Swimming                     56\n",
       "Athletics                    48\n",
       "Basketball                   24\n",
       "Volleyball                   24\n",
       "Sailing                      16\n",
       "Gymnastics                   11\n",
       "Rowing                       10\n",
       "Wrestling                     8\n",
       "Short Track Speed Skating     5\n",
       "Equestrianism                 5\n",
       "Tennis                        4\n",
       "Canoeing                      3\n",
       "Synchronized Swimming         3\n",
       "Diving                        3\n",
       "Boxing                        3\n",
       "Figure Skating                3\n",
       "Speed Skating                 2\n",
       "Freestyle Skiing              2\n",
       "Shooting                      2\n",
       "Cycling                       2\n",
       "Alpine Skiing                 2\n",
       "Judo                          1\n",
       "Name: count, dtype: int64"
      ]
     },
     "execution_count": 19,
     "metadata": {},
     "output_type": "execute_result"
    }
   ],
   "source": [
    "dataset[(dataset['Country']== 'USA') & (dataset['Year']==1992) & (dataset['has_medal']==1)]['Sport'].value_counts()"
   ]
  },
  {
   "cell_type": "markdown",
   "metadata": {},
   "source": [
    "Number of medals for the countries are big, the reason for that is that we consider a hosting country winning, if it has a medal. \n",
    "So it doesn't necessarily mean that they won a gold, they could have also won a silver or bronze medal."
   ]
  },
  {
   "cell_type": "markdown",
   "metadata": {
    "id": "ovRUQ_woBK5O"
   },
   "source": [
    "**Question 5** <br>\n",
    "**For each country, plot the average number of medals won when the country is a host and when it is not.**\n",
    "\n",
    "*Use sns.barplot() and the argument 'hue' (You can see the documentation)*"
   ]
  },
  {
   "cell_type": "code",
   "execution_count": 19,
   "metadata": {
    "tags": []
   },
   "outputs": [
    {
     "data": {
      "text/html": [
       "<div>\n",
       "<style scoped>\n",
       "    .dataframe tbody tr th:only-of-type {\n",
       "        vertical-align: middle;\n",
       "    }\n",
       "\n",
       "    .dataframe tbody tr th {\n",
       "        vertical-align: top;\n",
       "    }\n",
       "\n",
       "    .dataframe thead th {\n",
       "        text-align: right;\n",
       "    }\n",
       "</style>\n",
       "<table border=\"1\" class=\"dataframe\">\n",
       "  <thead>\n",
       "    <tr style=\"text-align: right;\">\n",
       "      <th></th>\n",
       "      <th>Country</th>\n",
       "      <th>Won_host_country</th>\n",
       "      <th>has_medal</th>\n",
       "    </tr>\n",
       "  </thead>\n",
       "  <tbody>\n",
       "    <tr>\n",
       "      <th>0</th>\n",
       "      <td>Australia</td>\n",
       "      <td>False</td>\n",
       "      <td>60.000000</td>\n",
       "    </tr>\n",
       "    <tr>\n",
       "      <th>1</th>\n",
       "      <td>Australia</td>\n",
       "      <td>True</td>\n",
       "      <td>108.000000</td>\n",
       "    </tr>\n",
       "    <tr>\n",
       "      <th>2</th>\n",
       "      <td>Brazil</td>\n",
       "      <td>False</td>\n",
       "      <td>24.687500</td>\n",
       "    </tr>\n",
       "    <tr>\n",
       "      <th>3</th>\n",
       "      <td>Brazil</td>\n",
       "      <td>True</td>\n",
       "      <td>50.000000</td>\n",
       "    </tr>\n",
       "    <tr>\n",
       "      <th>4</th>\n",
       "      <td>Canada</td>\n",
       "      <td>False</td>\n",
       "      <td>30.266667</td>\n",
       "    </tr>\n",
       "    <tr>\n",
       "      <th>5</th>\n",
       "      <td>Canada</td>\n",
       "      <td>True</td>\n",
       "      <td>20.000000</td>\n",
       "    </tr>\n",
       "    <tr>\n",
       "      <th>6</th>\n",
       "      <td>China</td>\n",
       "      <td>False</td>\n",
       "      <td>48.400000</td>\n",
       "    </tr>\n",
       "    <tr>\n",
       "      <th>7</th>\n",
       "      <td>China</td>\n",
       "      <td>True</td>\n",
       "      <td>184.000000</td>\n",
       "    </tr>\n",
       "    <tr>\n",
       "      <th>8</th>\n",
       "      <td>Finland</td>\n",
       "      <td>False</td>\n",
       "      <td>6.875000</td>\n",
       "    </tr>\n",
       "    <tr>\n",
       "      <th>9</th>\n",
       "      <td>Finland</td>\n",
       "      <td>True</td>\n",
       "      <td>28.000000</td>\n",
       "    </tr>\n",
       "    <tr>\n",
       "      <th>10</th>\n",
       "      <td>Germany</td>\n",
       "      <td>False</td>\n",
       "      <td>142.437500</td>\n",
       "    </tr>\n",
       "    <tr>\n",
       "      <th>11</th>\n",
       "      <td>Germany</td>\n",
       "      <td>True</td>\n",
       "      <td>253.000000</td>\n",
       "    </tr>\n",
       "    <tr>\n",
       "      <th>12</th>\n",
       "      <td>Greece</td>\n",
       "      <td>False</td>\n",
       "      <td>3.750000</td>\n",
       "    </tr>\n",
       "    <tr>\n",
       "      <th>13</th>\n",
       "      <td>Greece</td>\n",
       "      <td>True</td>\n",
       "      <td>31.000000</td>\n",
       "    </tr>\n",
       "    <tr>\n",
       "      <th>14</th>\n",
       "      <td>Italy</td>\n",
       "      <td>False</td>\n",
       "      <td>47.187500</td>\n",
       "    </tr>\n",
       "    <tr>\n",
       "      <th>15</th>\n",
       "      <td>Italy</td>\n",
       "      <td>True</td>\n",
       "      <td>77.000000</td>\n",
       "    </tr>\n",
       "    <tr>\n",
       "      <th>16</th>\n",
       "      <td>Japan</td>\n",
       "      <td>False</td>\n",
       "      <td>46.666667</td>\n",
       "    </tr>\n",
       "    <tr>\n",
       "      <th>17</th>\n",
       "      <td>Japan</td>\n",
       "      <td>True</td>\n",
       "      <td>62.000000</td>\n",
       "    </tr>\n",
       "    <tr>\n",
       "      <th>18</th>\n",
       "      <td>Mexico</td>\n",
       "      <td>False</td>\n",
       "      <td>4.187500</td>\n",
       "    </tr>\n",
       "    <tr>\n",
       "      <th>19</th>\n",
       "      <td>Mexico</td>\n",
       "      <td>True</td>\n",
       "      <td>9.000000</td>\n",
       "    </tr>\n",
       "    <tr>\n",
       "      <th>20</th>\n",
       "      <td>Russia</td>\n",
       "      <td>False</td>\n",
       "      <td>165.666667</td>\n",
       "    </tr>\n",
       "    <tr>\n",
       "      <th>21</th>\n",
       "      <td>Russia</td>\n",
       "      <td>True</td>\n",
       "      <td>437.000000</td>\n",
       "    </tr>\n",
       "    <tr>\n",
       "      <th>22</th>\n",
       "      <td>South Korea</td>\n",
       "      <td>False</td>\n",
       "      <td>27.066667</td>\n",
       "    </tr>\n",
       "    <tr>\n",
       "      <th>23</th>\n",
       "      <td>South Korea</td>\n",
       "      <td>True</td>\n",
       "      <td>77.000000</td>\n",
       "    </tr>\n",
       "    <tr>\n",
       "      <th>24</th>\n",
       "      <td>Spain</td>\n",
       "      <td>False</td>\n",
       "      <td>24.000000</td>\n",
       "    </tr>\n",
       "    <tr>\n",
       "      <th>25</th>\n",
       "      <td>Spain</td>\n",
       "      <td>True</td>\n",
       "      <td>43.000000</td>\n",
       "    </tr>\n",
       "    <tr>\n",
       "      <th>26</th>\n",
       "      <td>Sweden</td>\n",
       "      <td>False</td>\n",
       "      <td>18.764706</td>\n",
       "    </tr>\n",
       "    <tr>\n",
       "      <th>27</th>\n",
       "      <td>Sweden</td>\n",
       "      <td>True</td>\n",
       "      <td>0.000000</td>\n",
       "    </tr>\n",
       "    <tr>\n",
       "      <th>28</th>\n",
       "      <td>UK</td>\n",
       "      <td>False</td>\n",
       "      <td>46.625000</td>\n",
       "    </tr>\n",
       "    <tr>\n",
       "      <th>29</th>\n",
       "      <td>UK</td>\n",
       "      <td>True</td>\n",
       "      <td>123.000000</td>\n",
       "    </tr>\n",
       "    <tr>\n",
       "      <th>30</th>\n",
       "      <td>USA</td>\n",
       "      <td>False</td>\n",
       "      <td>196.857143</td>\n",
       "    </tr>\n",
       "    <tr>\n",
       "      <th>31</th>\n",
       "      <td>USA</td>\n",
       "      <td>True</td>\n",
       "      <td>296.500000</td>\n",
       "    </tr>\n",
       "  </tbody>\n",
       "</table>\n",
       "</div>"
      ],
      "text/plain": [
       "        Country  Won_host_country   has_medal\n",
       "0     Australia             False   60.000000\n",
       "1     Australia              True  108.000000\n",
       "2        Brazil             False   24.687500\n",
       "3        Brazil              True   50.000000\n",
       "4        Canada             False   30.266667\n",
       "5        Canada              True   20.000000\n",
       "6         China             False   48.400000\n",
       "7         China              True  184.000000\n",
       "8       Finland             False    6.875000\n",
       "9       Finland              True   28.000000\n",
       "10      Germany             False  142.437500\n",
       "11      Germany              True  253.000000\n",
       "12       Greece             False    3.750000\n",
       "13       Greece              True   31.000000\n",
       "14        Italy             False   47.187500\n",
       "15        Italy              True   77.000000\n",
       "16        Japan             False   46.666667\n",
       "17        Japan              True   62.000000\n",
       "18       Mexico             False    4.187500\n",
       "19       Mexico              True    9.000000\n",
       "20       Russia             False  165.666667\n",
       "21       Russia              True  437.000000\n",
       "22  South Korea             False   27.066667\n",
       "23  South Korea              True   77.000000\n",
       "24        Spain             False   24.000000\n",
       "25        Spain              True   43.000000\n",
       "26       Sweden             False   18.764706\n",
       "27       Sweden              True    0.000000\n",
       "28           UK             False   46.625000\n",
       "29           UK              True  123.000000\n",
       "30          USA             False  196.857143\n",
       "31          USA              True  296.500000"
      ]
     },
     "execution_count": 19,
     "metadata": {},
     "output_type": "execute_result"
    }
   ],
   "source": [
    "df_hosted2 = df_host.groupby(['Country','Won_host_country'])['has_medal'].mean().reset_index()\n",
    "df_hosted2"
   ]
  },
  {
   "cell_type": "code",
   "execution_count": 20,
   "metadata": {
    "tags": []
   },
   "outputs": [
    {
     "data": {
      "text/plain": [
       "<Axes: xlabel='Country', ylabel='has_medal'>"
      ]
     },
     "execution_count": 20,
     "metadata": {},
     "output_type": "execute_result"
    },
    {
     "data": {
      "image/png": "[encoded data removed]",
      "text/plain": [
       "<Figure size 1200x500 with 1 Axes>"
      ]
     },
     "metadata": {},
     "output_type": "display_data"
    }
   ],
   "source": [
    "plt.figure(figsize=(12,5))\n",
    "sns.barplot(df_hosted2, x = 'Country', y='has_medal', hue= 'Won_host_country')"
   ]
  },
  {
   "cell_type": "markdown",
   "metadata": {
    "id": "l4yoRhLkBszr"
   },
   "source": [
    "**Question 5 bis** <br>\n",
    "**Do you see a problem ?  Can you explain it ?**\n"
   ]
  },
  {
   "cell_type": "code",
   "execution_count": 23,
   "metadata": {
    "tags": []
   },
   "outputs": [
    {
     "name": "stdout",
     "output_type": "stream",
     "text": [
      "            ID                                   Name Sex   Age  Height  \\\n",
      "40          17                Paavo Johannes Aaltonen   M  32.0   175.0   \n",
      "496        394                             Irene Abel   F  19.0   160.0   \n",
      "778        582            Saypulla Atavovich Absaidov   M  22.0   168.0   \n",
      "818        610                    Ginko Abukawa-Chiba   F  26.0   148.0   \n",
      "834        618  Aleksandr Veniaminovich Abushakhmetov   M  25.0   189.0   \n",
      "...        ...                                    ...  ..   ...     ...   \n",
      "206509  135372                        Giovanni Zucchi   M  29.0   185.0   \n",
      "206521  135379                 Erika Zuchold (Barth-)   F  25.0   158.0   \n",
      "206523  135379                 Erika Zuchold (Barth-)   F  25.0   158.0   \n",
      "206524  135379                 Erika Zuchold (Barth-)   F  25.0   158.0   \n",
      "206573  135415                          Robertas ulpa   M  20.0   193.0   \n",
      "\n",
      "        Weight          Team  NOC  Country        Games  Year  Season  \\\n",
      "40        64.0       Finland  FIN  Finland  1952 Summer  1952  Summer   \n",
      "496       48.0  East Germany  GDR  Germany  1972 Summer  1972  Summer   \n",
      "778       68.0  Soviet Union  URS   Russia  1980 Summer  1980  Summer   \n",
      "818       46.0         Japan  JPN    Japan  1964 Summer  1964  Summer   \n",
      "834       81.0  Soviet Union  URS   Russia  1980 Summer  1980  Summer   \n",
      "...        ...           ...  ...      ...          ...   ...     ...   \n",
      "206509    92.0         Italy  ITA    Italy  1960 Summer  1960  Summer   \n",
      "206521    48.0  East Germany  GDR  Germany  1972 Summer  1972  Summer   \n",
      "206523    48.0  East Germany  GDR  Germany  1972 Summer  1972  Summer   \n",
      "206524    48.0  East Germany  GDR  Germany  1972 Summer  1972  Summer   \n",
      "206573    82.0  Soviet Union  URS   Russia  1980 Summer  1980  Summer   \n",
      "\n",
      "            City       Sport                                   Event   Medal  \\\n",
      "40      Helsinki  Gymnastics        Gymnastics Men's Team All-Around  Bronze   \n",
      "496       Munich  Gymnastics      Gymnastics Women's Team All-Around  Silver   \n",
      "778       Moskva   Wrestling  Wrestling Men's Lightweight, Freestyle    Gold   \n",
      "818        Tokyo  Gymnastics      Gymnastics Women's Team All-Around  Bronze   \n",
      "834       Moskva     Fencing                Fencing Men's epee, Team  Bronze   \n",
      "...          ...         ...                                     ...     ...   \n",
      "206509      Roma      Rowing                Rowing Men's Coxed Fours  Bronze   \n",
      "206521    Munich  Gymnastics      Gymnastics Women's Team All-Around  Silver   \n",
      "206523    Munich  Gymnastics          Gymnastics Women's Horse Vault  Silver   \n",
      "206524    Munich  Gymnastics          Gymnastics Women's Uneven Bars  Silver   \n",
      "206573    Moskva    Swimming  Swimming Men's 200 metres Breaststroke    Gold   \n",
      "\n",
      "       Host_country  Won_host_country  has_medal  \n",
      "40          Finland              True          1  \n",
      "496         Germany              True          1  \n",
      "778          Russia              True          1  \n",
      "818           Japan              True          1  \n",
      "834          Russia              True          1  \n",
      "...             ...               ...        ...  \n",
      "206509        Italy              True          1  \n",
      "206521      Germany              True          1  \n",
      "206523      Germany              True          1  \n",
      "206524      Germany              True          1  \n",
      "206573       Russia              True          1  \n",
      "\n",
      "[2203 rows x 19 columns]\n"
     ]
    }
   ],
   "source": [
    "#Sweden is in the dataset - that's okay as in 1956 Sweden was a co-organiser for the equestrian events due to strict regulations in the host country Australia.\n",
    "dataset[(dataset['Country']==\"Sweden\") & (dataset['Year']==1956) & (dataset['Won_host_country'] == True)]\n",
    "\n",
    "#Number of medals for the countries are big, the reason for that is that we consider a hosting country winning, if it has a medal. \n",
    "#So it doesn't necessarily mean that they won a gold, they could have also won a silver or bronze medal.\n",
    "print(summer_after50[(summer_after50['Won_host_country']==True) & (summer_after50['has_medal']==True) & (summer_after50['Country'].isin(host_list))])"
   ]
  },
  {
   "cell_type": "code",
   "execution_count": 48,
   "metadata": {
    "id": "A-lalBWmsjJ9",
    "tags": []
   },
   "outputs": [
    {
     "data": {
      "text/html": [
       "<div>\n",
       "<style scoped>\n",
       "    .dataframe tbody tr th:only-of-type {\n",
       "        vertical-align: middle;\n",
       "    }\n",
       "\n",
       "    .dataframe tbody tr th {\n",
       "        vertical-align: top;\n",
       "    }\n",
       "\n",
       "    .dataframe thead th {\n",
       "        text-align: right;\n",
       "    }\n",
       "</style>\n",
       "<table border=\"1\" class=\"dataframe\">\n",
       "  <thead>\n",
       "    <tr style=\"text-align: right;\">\n",
       "      <th></th>\n",
       "      <th>Country</th>\n",
       "      <th>Won_host_country</th>\n",
       "      <th>Year</th>\n",
       "      <th>has_medal</th>\n",
       "    </tr>\n",
       "  </thead>\n",
       "  <tbody>\n",
       "    <tr>\n",
       "      <th>234</th>\n",
       "      <td>Sweden</td>\n",
       "      <td>True</td>\n",
       "      <td>1956</td>\n",
       "      <td>0</td>\n",
       "    </tr>\n",
       "  </tbody>\n",
       "</table>\n",
       "</div>"
      ],
      "text/plain": [
       "    Country  Won_host_country  Year  has_medal\n",
       "234  Sweden              True  1956          0"
      ]
     },
     "execution_count": 48,
     "metadata": {},
     "output_type": "execute_result"
    }
   ],
   "source": [
    "df_host[(df_host['Country'] == 'Sweden') & (df_host['Won_host_country'] == True)]"
   ]
  },
  {
   "cell_type": "markdown",
   "metadata": {},
   "source": [
    "Sweden host the country but didn't win medal. for example, they hosted the OG in 1956 but didn't win a singe medal.\n",
    "Sweden is in the dataset - that's okay as in 1956 Sweden was a co-organiser for the equestrian events due to strict reglations in the host country Australia.\n",
    "Number of medals for the countries are big, the reason for that is that we consider a hosting country winning, if it has a medal. \n",
    "So it doesn't necessarily mean that they won a gold, they could have also won a silver or bronze medal."
   ]
  },
  {
   "cell_type": "markdown",
   "metadata": {
    "id": "fV7-yTWPPfd_"
   },
   "source": [
    "**Question 6**: <br>\n",
    "**Compute the correlation matrix of the numerical variables (int and float) in the dataframe** <br>\n",
    "**Then, display this matrix with `sns.heatmap()`**\n",
    "\n",
    "*Note: A correlation is high when its above 0.7*\n",
    "- *You can use `numeric_only=True` to only use the numerical variables in `df.corr()`.*\n",
    "- *You can use `plt.figure(figsize=(30,20))` to get a larger display of the heatmap.*"
   ]
  },
  {
   "cell_type": "code",
   "execution_count": 85,
   "metadata": {
    "id": "_8RdwuTMskMJ"
   },
   "outputs": [
    {
     "data": {
      "text/html": [
       "<div>\n",
       "<style scoped>\n",
       "    .dataframe tbody tr th:only-of-type {\n",
       "        vertical-align: middle;\n",
       "    }\n",
       "\n",
       "    .dataframe tbody tr th {\n",
       "        vertical-align: top;\n",
       "    }\n",
       "\n",
       "    .dataframe thead th {\n",
       "        text-align: right;\n",
       "    }\n",
       "</style>\n",
       "<table border=\"1\" class=\"dataframe\">\n",
       "  <thead>\n",
       "    <tr style=\"text-align: right;\">\n",
       "      <th></th>\n",
       "      <th>ID</th>\n",
       "      <th>Age</th>\n",
       "      <th>Height</th>\n",
       "      <th>Weight</th>\n",
       "      <th>Year</th>\n",
       "      <th>Won_host_country</th>\n",
       "      <th>has_medal</th>\n",
       "    </tr>\n",
       "  </thead>\n",
       "  <tbody>\n",
       "    <tr>\n",
       "      <th>ID</th>\n",
       "      <td>1.000000</td>\n",
       "      <td>-0.002088</td>\n",
       "      <td>-0.011812</td>\n",
       "      <td>-0.008825</td>\n",
       "      <td>0.007352</td>\n",
       "      <td>0.012934</td>\n",
       "      <td>0.017378</td>\n",
       "    </tr>\n",
       "    <tr>\n",
       "      <th>Age</th>\n",
       "      <td>-0.002088</td>\n",
       "      <td>1.000000</td>\n",
       "      <td>0.141516</td>\n",
       "      <td>0.211842</td>\n",
       "      <td>0.088878</td>\n",
       "      <td>-0.022361</td>\n",
       "      <td>0.028208</td>\n",
       "    </tr>\n",
       "    <tr>\n",
       "      <th>Height</th>\n",
       "      <td>-0.011812</td>\n",
       "      <td>0.141516</td>\n",
       "      <td>1.000000</td>\n",
       "      <td>0.796213</td>\n",
       "      <td>0.048954</td>\n",
       "      <td>0.003185</td>\n",
       "      <td>0.089429</td>\n",
       "    </tr>\n",
       "    <tr>\n",
       "      <th>Weight</th>\n",
       "      <td>-0.008825</td>\n",
       "      <td>0.211842</td>\n",
       "      <td>0.796213</td>\n",
       "      <td>1.000000</td>\n",
       "      <td>0.022649</td>\n",
       "      <td>-0.003525</td>\n",
       "      <td>0.088657</td>\n",
       "    </tr>\n",
       "    <tr>\n",
       "      <th>Year</th>\n",
       "      <td>0.007352</td>\n",
       "      <td>0.088878</td>\n",
       "      <td>0.048954</td>\n",
       "      <td>0.022649</td>\n",
       "      <td>1.000000</td>\n",
       "      <td>-0.087997</td>\n",
       "      <td>-0.033267</td>\n",
       "    </tr>\n",
       "    <tr>\n",
       "      <th>Won_host_country</th>\n",
       "      <td>0.012934</td>\n",
       "      <td>-0.022361</td>\n",
       "      <td>0.003185</td>\n",
       "      <td>-0.003525</td>\n",
       "      <td>-0.087997</td>\n",
       "      <td>1.000000</td>\n",
       "      <td>0.066562</td>\n",
       "    </tr>\n",
       "    <tr>\n",
       "      <th>has_medal</th>\n",
       "      <td>0.017378</td>\n",
       "      <td>0.028208</td>\n",
       "      <td>0.089429</td>\n",
       "      <td>0.088657</td>\n",
       "      <td>-0.033267</td>\n",
       "      <td>0.066562</td>\n",
       "      <td>1.000000</td>\n",
       "    </tr>\n",
       "  </tbody>\n",
       "</table>\n",
       "</div>"
      ],
      "text/plain": [
       "                        ID       Age    Height    Weight      Year  \\\n",
       "ID                1.000000 -0.002088 -0.011812 -0.008825  0.007352   \n",
       "Age              -0.002088  1.000000  0.141516  0.211842  0.088878   \n",
       "Height           -0.011812  0.141516  1.000000  0.796213  0.048954   \n",
       "Weight           -0.008825  0.211842  0.796213  1.000000  0.022649   \n",
       "Year              0.007352  0.088878  0.048954  0.022649  1.000000   \n",
       "Won_host_country  0.012934 -0.022361  0.003185 -0.003525 -0.087997   \n",
       "has_medal         0.017378  0.028208  0.089429  0.088657 -0.033267   \n",
       "\n",
       "                  Won_host_country  has_medal  \n",
       "ID                        0.012934   0.017378  \n",
       "Age                      -0.022361   0.028208  \n",
       "Height                    0.003185   0.089429  \n",
       "Weight                   -0.003525   0.088657  \n",
       "Year                     -0.087997  -0.033267  \n",
       "Won_host_country          1.000000   0.066562  \n",
       "has_medal                 0.066562   1.000000  "
      ]
     },
     "execution_count": 85,
     "metadata": {},
     "output_type": "execute_result"
    }
   ],
   "source": [
    "dataset.corr(numeric_only=True)"
   ]
  },
  {
   "cell_type": "code",
   "execution_count": 82,
   "metadata": {
    "id": "1QyEt6yJskJ2"
   },
   "outputs": [
    {
     "data": {
      "text/plain": [
       "<Axes: >"
      ]
     },
     "execution_count": 82,
     "metadata": {},
     "output_type": "execute_result"
    },
    {
     "data": {
      "image/png": "[encoded data removed]",
      "text/plain": [
       "<Figure size 640x480 with 2 Axes>"
      ]
     },
     "metadata": {},
     "output_type": "display_data"
    }
   ],
   "source": [
    "corr_matrix = dataset.corr(numeric_only=True)\n",
    "sns.heatmap(corr_matrix)"
   ]
  },
  {
   "cell_type": "markdown",
   "metadata": {
    "id": "67ouHUc0Pfd_"
   },
   "source": [
    "**Did you identify highly correlated variables  ?**\n",
    "\n",
    "Weight and height are highly correlated."
   ]
  },
  {
   "cell_type": "markdown",
   "metadata": {
    "id": "wgzyvo8Hur27"
   },
   "source": [
    "**Question 7:** <br>\n",
    "**Display an bar chart showing the distribution of the age for the gold medal winners** <br>\n",
    "You can use 'sns.countplot' <br>\n",
    "(Optional Question) Display a better chart with a title, a 'xlabel', a 'ylabel' and display the count over the bar plot.\n",
    "You can do this with \"ax.patches\""
   ]
  },
  {
   "cell_type": "code",
   "execution_count": 31,
   "metadata": {
    "id": "bkBB7wV3stGd",
    "tags": []
   },
   "outputs": [
    {
     "data": {
      "text/html": [
       "<div>\n",
       "<style scoped>\n",
       "    .dataframe tbody tr th:only-of-type {\n",
       "        vertical-align: middle;\n",
       "    }\n",
       "\n",
       "    .dataframe tbody tr th {\n",
       "        vertical-align: top;\n",
       "    }\n",
       "\n",
       "    .dataframe thead th {\n",
       "        text-align: right;\n",
       "    }\n",
       "</style>\n",
       "<table border=\"1\" class=\"dataframe\">\n",
       "  <thead>\n",
       "    <tr style=\"text-align: right;\">\n",
       "      <th></th>\n",
       "      <th>ID</th>\n",
       "      <th>Name</th>\n",
       "      <th>Sex</th>\n",
       "      <th>Age</th>\n",
       "      <th>Height</th>\n",
       "      <th>Weight</th>\n",
       "      <th>Team</th>\n",
       "      <th>NOC</th>\n",
       "      <th>Country</th>\n",
       "      <th>Games</th>\n",
       "      <th>Year</th>\n",
       "      <th>Season</th>\n",
       "      <th>City</th>\n",
       "      <th>Sport</th>\n",
       "      <th>Event</th>\n",
       "      <th>Medal</th>\n",
       "      <th>Host_country</th>\n",
       "      <th>Won_host_country</th>\n",
       "      <th>has_medal</th>\n",
       "    </tr>\n",
       "  </thead>\n",
       "  <tbody>\n",
       "    <tr>\n",
       "      <th>32</th>\n",
       "      <td>17</td>\n",
       "      <td>Paavo Johannes Aaltonen</td>\n",
       "      <td>M</td>\n",
       "      <td>28.0</td>\n",
       "      <td>175.0</td>\n",
       "      <td>64.0</td>\n",
       "      <td>Finland</td>\n",
       "      <td>FIN</td>\n",
       "      <td>Finland</td>\n",
       "      <td>1948 Summer</td>\n",
       "      <td>1948</td>\n",
       "      <td>Summer</td>\n",
       "      <td>London</td>\n",
       "      <td>Gymnastics</td>\n",
       "      <td>Gymnastics Men's Team All-Around</td>\n",
       "      <td>Gold</td>\n",
       "      <td>UK</td>\n",
       "      <td>False</td>\n",
       "      <td>1</td>\n",
       "    </tr>\n",
       "    <tr>\n",
       "      <th>34</th>\n",
       "      <td>17</td>\n",
       "      <td>Paavo Johannes Aaltonen</td>\n",
       "      <td>M</td>\n",
       "      <td>28.0</td>\n",
       "      <td>175.0</td>\n",
       "      <td>64.0</td>\n",
       "      <td>Finland</td>\n",
       "      <td>FIN</td>\n",
       "      <td>Finland</td>\n",
       "      <td>1948 Summer</td>\n",
       "      <td>1948</td>\n",
       "      <td>Summer</td>\n",
       "      <td>London</td>\n",
       "      <td>Gymnastics</td>\n",
       "      <td>Gymnastics Men's Horse Vault</td>\n",
       "      <td>Gold</td>\n",
       "      <td>UK</td>\n",
       "      <td>False</td>\n",
       "      <td>1</td>\n",
       "    </tr>\n",
       "    <tr>\n",
       "      <th>38</th>\n",
       "      <td>17</td>\n",
       "      <td>Paavo Johannes Aaltonen</td>\n",
       "      <td>M</td>\n",
       "      <td>28.0</td>\n",
       "      <td>175.0</td>\n",
       "      <td>64.0</td>\n",
       "      <td>Finland</td>\n",
       "      <td>FIN</td>\n",
       "      <td>Finland</td>\n",
       "      <td>1948 Summer</td>\n",
       "      <td>1948</td>\n",
       "      <td>Summer</td>\n",
       "      <td>London</td>\n",
       "      <td>Gymnastics</td>\n",
       "      <td>Gymnastics Men's Pommelled Horse</td>\n",
       "      <td>Gold</td>\n",
       "      <td>UK</td>\n",
       "      <td>False</td>\n",
       "      <td>1</td>\n",
       "    </tr>\n",
       "    <tr>\n",
       "      <th>49</th>\n",
       "      <td>20</td>\n",
       "      <td>Kjetil Andr Aamodt</td>\n",
       "      <td>M</td>\n",
       "      <td>20.0</td>\n",
       "      <td>176.0</td>\n",
       "      <td>85.0</td>\n",
       "      <td>Norway</td>\n",
       "      <td>NOR</td>\n",
       "      <td>Norway</td>\n",
       "      <td>1992 Winter</td>\n",
       "      <td>1992</td>\n",
       "      <td>Winter</td>\n",
       "      <td>Albertville</td>\n",
       "      <td>Alpine Skiing</td>\n",
       "      <td>Alpine Skiing Men's Super G</td>\n",
       "      <td>Gold</td>\n",
       "      <td>NaN</td>\n",
       "      <td>False</td>\n",
       "      <td>1</td>\n",
       "    </tr>\n",
       "    <tr>\n",
       "      <th>62</th>\n",
       "      <td>20</td>\n",
       "      <td>Kjetil Andr Aamodt</td>\n",
       "      <td>M</td>\n",
       "      <td>30.0</td>\n",
       "      <td>176.0</td>\n",
       "      <td>85.0</td>\n",
       "      <td>Norway</td>\n",
       "      <td>NOR</td>\n",
       "      <td>Norway</td>\n",
       "      <td>2002 Winter</td>\n",
       "      <td>2002</td>\n",
       "      <td>Winter</td>\n",
       "      <td>Salt Lake City</td>\n",
       "      <td>Alpine Skiing</td>\n",
       "      <td>Alpine Skiing Men's Super G</td>\n",
       "      <td>Gold</td>\n",
       "      <td>NaN</td>\n",
       "      <td>False</td>\n",
       "      <td>1</td>\n",
       "    </tr>\n",
       "  </tbody>\n",
       "</table>\n",
       "</div>"
      ],
      "text/plain": [
       "    ID                     Name Sex   Age  Height  Weight     Team  NOC  \\\n",
       "32  17  Paavo Johannes Aaltonen   M  28.0   175.0    64.0  Finland  FIN   \n",
       "34  17  Paavo Johannes Aaltonen   M  28.0   175.0    64.0  Finland  FIN   \n",
       "38  17  Paavo Johannes Aaltonen   M  28.0   175.0    64.0  Finland  FIN   \n",
       "49  20       Kjetil Andr Aamodt   M  20.0   176.0    85.0   Norway  NOR   \n",
       "62  20       Kjetil Andr Aamodt   M  30.0   176.0    85.0   Norway  NOR   \n",
       "\n",
       "    Country        Games  Year  Season            City          Sport  \\\n",
       "32  Finland  1948 Summer  1948  Summer          London     Gymnastics   \n",
       "34  Finland  1948 Summer  1948  Summer          London     Gymnastics   \n",
       "38  Finland  1948 Summer  1948  Summer          London     Gymnastics   \n",
       "49   Norway  1992 Winter  1992  Winter     Albertville  Alpine Skiing   \n",
       "62   Norway  2002 Winter  2002  Winter  Salt Lake City  Alpine Skiing   \n",
       "\n",
       "                               Event Medal Host_country  Won_host_country  \\\n",
       "32  Gymnastics Men's Team All-Around  Gold           UK             False   \n",
       "34      Gymnastics Men's Horse Vault  Gold           UK             False   \n",
       "38  Gymnastics Men's Pommelled Horse  Gold           UK             False   \n",
       "49       Alpine Skiing Men's Super G  Gold          NaN             False   \n",
       "62       Alpine Skiing Men's Super G  Gold          NaN             False   \n",
       "\n",
       "    has_medal  \n",
       "32          1  \n",
       "34          1  \n",
       "38          1  \n",
       "49          1  \n",
       "62          1  "
      ]
     },
     "execution_count": 31,
     "metadata": {},
     "output_type": "execute_result"
    }
   ],
   "source": [
    "dataset_gold = dataset[dataset[\"Medal\"]==\"Gold\"]\n",
    "dataset_gold.head()\n"
   ]
  },
  {
   "cell_type": "code",
   "execution_count": 32,
   "metadata": {
    "id": "ZvMNcBs1ss_X",
    "tags": []
   },
   "outputs": [
    {
     "data": {
      "text/plain": [
       "<Axes: xlabel='Age', ylabel='count'>"
      ]
     },
     "execution_count": 32,
     "metadata": {},
     "output_type": "execute_result"
    },
    {
     "data": {
      "image/png": "[encoded data removed]",
      "text/plain": [
       "<Figure size 2000x1000 with 1 Axes>"
      ]
     },
     "metadata": {},
     "output_type": "display_data"
    }
   ],
   "source": [
    "plt.figure(figsize=(20,10))\n",
    "sns.countplot(x = 'Age',\n",
    "            data = dataset_gold)"
   ]
  },
  {
   "cell_type": "markdown",
   "metadata": {
    "id": "dR1h7XT_t3pY"
   },
   "source": [
    "**Question 8 (Bonus)**: <br>\n",
    "**Do host countries win more medals when they are at home?\n",
    "Display on a plot with sns.scatterplot in black the number of medals won by non-host countries for each edition, and in red for host countries.** <br>\n",
    "Play with the transparency parameter. (alpha with sns.scatterplot), and the s parameter (dot size).\n",
    "\n",
    "As a guide, alpha is between 0 and 1.\n",
    "s should be between 50 and 150."
   ]
  },
  {
   "cell_type": "code",
   "execution_count": 53,
   "metadata": {
    "id": "_M2GsRtDstq3",
    "tags": []
   },
   "outputs": [
    {
     "data": {
      "text/html": [
       "<div>\n",
       "<style scoped>\n",
       "    .dataframe tbody tr th:only-of-type {\n",
       "        vertical-align: middle;\n",
       "    }\n",
       "\n",
       "    .dataframe tbody tr th {\n",
       "        vertical-align: top;\n",
       "    }\n",
       "\n",
       "    .dataframe thead th {\n",
       "        text-align: right;\n",
       "    }\n",
       "</style>\n",
       "<table border=\"1\" class=\"dataframe\">\n",
       "  <thead>\n",
       "    <tr style=\"text-align: right;\">\n",
       "      <th></th>\n",
       "      <th>Year</th>\n",
       "      <th>has_medal</th>\n",
       "    </tr>\n",
       "  </thead>\n",
       "  <tbody>\n",
       "    <tr>\n",
       "      <th>0</th>\n",
       "      <td>1896</td>\n",
       "      <td>11</td>\n",
       "    </tr>\n",
       "    <tr>\n",
       "      <th>1</th>\n",
       "      <td>1900</td>\n",
       "      <td>17</td>\n",
       "    </tr>\n",
       "    <tr>\n",
       "      <th>2</th>\n",
       "      <td>1904</td>\n",
       "      <td>5</td>\n",
       "    </tr>\n",
       "    <tr>\n",
       "      <th>3</th>\n",
       "      <td>1906</td>\n",
       "      <td>28</td>\n",
       "    </tr>\n",
       "    <tr>\n",
       "      <th>4</th>\n",
       "      <td>1908</td>\n",
       "      <td>30</td>\n",
       "    </tr>\n",
       "    <tr>\n",
       "      <th>5</th>\n",
       "      <td>1912</td>\n",
       "      <td>43</td>\n",
       "    </tr>\n",
       "    <tr>\n",
       "      <th>6</th>\n",
       "      <td>1920</td>\n",
       "      <td>74</td>\n",
       "    </tr>\n",
       "    <tr>\n",
       "      <th>7</th>\n",
       "      <td>1924</td>\n",
       "      <td>66</td>\n",
       "    </tr>\n",
       "    <tr>\n",
       "      <th>8</th>\n",
       "      <td>1928</td>\n",
       "      <td>66</td>\n",
       "    </tr>\n",
       "    <tr>\n",
       "      <th>9</th>\n",
       "      <td>1932</td>\n",
       "      <td>27</td>\n",
       "    </tr>\n",
       "    <tr>\n",
       "      <th>10</th>\n",
       "      <td>1936</td>\n",
       "      <td>80</td>\n",
       "    </tr>\n",
       "    <tr>\n",
       "      <th>11</th>\n",
       "      <td>1948</td>\n",
       "      <td>79</td>\n",
       "    </tr>\n",
       "    <tr>\n",
       "      <th>12</th>\n",
       "      <td>1952</td>\n",
       "      <td>118</td>\n",
       "    </tr>\n",
       "    <tr>\n",
       "      <th>13</th>\n",
       "      <td>1956</td>\n",
       "      <td>182</td>\n",
       "    </tr>\n",
       "    <tr>\n",
       "      <th>14</th>\n",
       "      <td>1960</td>\n",
       "      <td>305</td>\n",
       "    </tr>\n",
       "    <tr>\n",
       "      <th>15</th>\n",
       "      <td>1964</td>\n",
       "      <td>365</td>\n",
       "    </tr>\n",
       "    <tr>\n",
       "      <th>16</th>\n",
       "      <td>1968</td>\n",
       "      <td>418</td>\n",
       "    </tr>\n",
       "    <tr>\n",
       "      <th>17</th>\n",
       "      <td>1972</td>\n",
       "      <td>397</td>\n",
       "    </tr>\n",
       "    <tr>\n",
       "      <th>18</th>\n",
       "      <td>1976</td>\n",
       "      <td>500</td>\n",
       "    </tr>\n",
       "    <tr>\n",
       "      <th>19</th>\n",
       "      <td>1980</td>\n",
       "      <td>336</td>\n",
       "    </tr>\n",
       "    <tr>\n",
       "      <th>20</th>\n",
       "      <td>1984</td>\n",
       "      <td>384</td>\n",
       "    </tr>\n",
       "    <tr>\n",
       "      <th>21</th>\n",
       "      <td>1988</td>\n",
       "      <td>578</td>\n",
       "    </tr>\n",
       "    <tr>\n",
       "      <th>22</th>\n",
       "      <td>1992</td>\n",
       "      <td>558</td>\n",
       "    </tr>\n",
       "    <tr>\n",
       "      <th>23</th>\n",
       "      <td>1994</td>\n",
       "      <td>105</td>\n",
       "    </tr>\n",
       "    <tr>\n",
       "      <th>24</th>\n",
       "      <td>1996</td>\n",
       "      <td>415</td>\n",
       "    </tr>\n",
       "    <tr>\n",
       "      <th>25</th>\n",
       "      <td>1998</td>\n",
       "      <td>144</td>\n",
       "    </tr>\n",
       "    <tr>\n",
       "      <th>26</th>\n",
       "      <td>2000</td>\n",
       "      <td>599</td>\n",
       "    </tr>\n",
       "    <tr>\n",
       "      <th>27</th>\n",
       "      <td>2002</td>\n",
       "      <td>161</td>\n",
       "    </tr>\n",
       "    <tr>\n",
       "      <th>28</th>\n",
       "      <td>2004</td>\n",
       "      <td>656</td>\n",
       "    </tr>\n",
       "    <tr>\n",
       "      <th>29</th>\n",
       "      <td>2006</td>\n",
       "      <td>176</td>\n",
       "    </tr>\n",
       "    <tr>\n",
       "      <th>30</th>\n",
       "      <td>2008</td>\n",
       "      <td>590</td>\n",
       "    </tr>\n",
       "    <tr>\n",
       "      <th>31</th>\n",
       "      <td>2010</td>\n",
       "      <td>173</td>\n",
       "    </tr>\n",
       "    <tr>\n",
       "      <th>32</th>\n",
       "      <td>2012</td>\n",
       "      <td>576</td>\n",
       "    </tr>\n",
       "    <tr>\n",
       "      <th>33</th>\n",
       "      <td>2014</td>\n",
       "      <td>190</td>\n",
       "    </tr>\n",
       "    <tr>\n",
       "      <th>34</th>\n",
       "      <td>2016</td>\n",
       "      <td>626</td>\n",
       "    </tr>\n",
       "  </tbody>\n",
       "</table>\n",
       "</div>"
      ],
      "text/plain": [
       "    Year  has_medal\n",
       "0   1896         11\n",
       "1   1900         17\n",
       "2   1904          5\n",
       "3   1906         28\n",
       "4   1908         30\n",
       "5   1912         43\n",
       "6   1920         74\n",
       "7   1924         66\n",
       "8   1928         66\n",
       "9   1932         27\n",
       "10  1936         80\n",
       "11  1948         79\n",
       "12  1952        118\n",
       "13  1956        182\n",
       "14  1960        305\n",
       "15  1964        365\n",
       "16  1968        418\n",
       "17  1972        397\n",
       "18  1976        500\n",
       "19  1980        336\n",
       "20  1984        384\n",
       "21  1988        578\n",
       "22  1992        558\n",
       "23  1994        105\n",
       "24  1996        415\n",
       "25  1998        144\n",
       "26  2000        599\n",
       "27  2002        161\n",
       "28  2004        656\n",
       "29  2006        176\n",
       "30  2008        590\n",
       "31  2010        173\n",
       "32  2012        576\n",
       "33  2014        190\n",
       "34  2016        626"
      ]
     },
     "execution_count": 53,
     "metadata": {},
     "output_type": "execute_result"
    }
   ],
   "source": [
    "\n",
    "nothost_gold = dataset_gold[dataset_gold[\"Won_host_country\"] == False].groupby('Year')['has_medal'].sum().to_frame()\n",
    "nothost_gold = nothost_gold.reset_index()\n",
    "nothost_gold"
   ]
  },
  {
   "cell_type": "code",
   "execution_count": 57,
   "metadata": {
    "id": "ZVuVqOnKssVt",
    "tags": []
   },
   "outputs": [
    {
     "data": {
      "image/png": "[encoded data removed]",
      "text/plain": [
       "<Figure size 640x480 with 1 Axes>"
      ]
     },
     "metadata": {},
     "output_type": "display_data"
    }
   ],
   "source": [
    "s1 = sns.scatterplot(x =nothost_gold['Year'], y = nothost_gold['has_medal'], color = 'black')"
   ]
  },
  {
   "cell_type": "code",
   "execution_count": 58,
   "metadata": {
    "tags": []
   },
   "outputs": [
    {
     "data": {
      "text/html": [
       "<div>\n",
       "<style scoped>\n",
       "    .dataframe tbody tr th:only-of-type {\n",
       "        vertical-align: middle;\n",
       "    }\n",
       "\n",
       "    .dataframe tbody tr th {\n",
       "        vertical-align: top;\n",
       "    }\n",
       "\n",
       "    .dataframe thead th {\n",
       "        text-align: right;\n",
       "    }\n",
       "</style>\n",
       "<table border=\"1\" class=\"dataframe\">\n",
       "  <thead>\n",
       "    <tr style=\"text-align: right;\">\n",
       "      <th></th>\n",
       "      <th>Year</th>\n",
       "      <th>has_medal</th>\n",
       "    </tr>\n",
       "  </thead>\n",
       "  <tbody>\n",
       "    <tr>\n",
       "      <th>0</th>\n",
       "      <td>1900</td>\n",
       "      <td>2</td>\n",
       "    </tr>\n",
       "    <tr>\n",
       "      <th>1</th>\n",
       "      <td>1904</td>\n",
       "      <td>29</td>\n",
       "    </tr>\n",
       "    <tr>\n",
       "      <th>2</th>\n",
       "      <td>1906</td>\n",
       "      <td>1</td>\n",
       "    </tr>\n",
       "    <tr>\n",
       "      <th>3</th>\n",
       "      <td>1908</td>\n",
       "      <td>25</td>\n",
       "    </tr>\n",
       "    <tr>\n",
       "      <th>4</th>\n",
       "      <td>1912</td>\n",
       "      <td>15</td>\n",
       "    </tr>\n",
       "    <tr>\n",
       "      <th>5</th>\n",
       "      <td>1920</td>\n",
       "      <td>4</td>\n",
       "    </tr>\n",
       "    <tr>\n",
       "      <th>6</th>\n",
       "      <td>1924</td>\n",
       "      <td>6</td>\n",
       "    </tr>\n",
       "    <tr>\n",
       "      <th>7</th>\n",
       "      <td>1928</td>\n",
       "      <td>1</td>\n",
       "    </tr>\n",
       "    <tr>\n",
       "      <th>8</th>\n",
       "      <td>1932</td>\n",
       "      <td>39</td>\n",
       "    </tr>\n",
       "    <tr>\n",
       "      <th>9</th>\n",
       "      <td>1936</td>\n",
       "      <td>7</td>\n",
       "    </tr>\n",
       "    <tr>\n",
       "      <th>10</th>\n",
       "      <td>1948</td>\n",
       "      <td>1</td>\n",
       "    </tr>\n",
       "    <tr>\n",
       "      <th>11</th>\n",
       "      <td>1952</td>\n",
       "      <td>6</td>\n",
       "    </tr>\n",
       "    <tr>\n",
       "      <th>12</th>\n",
       "      <td>1956</td>\n",
       "      <td>16</td>\n",
       "    </tr>\n",
       "    <tr>\n",
       "      <th>13</th>\n",
       "      <td>1960</td>\n",
       "      <td>33</td>\n",
       "    </tr>\n",
       "    <tr>\n",
       "      <th>14</th>\n",
       "      <td>1964</td>\n",
       "      <td>32</td>\n",
       "    </tr>\n",
       "    <tr>\n",
       "      <th>15</th>\n",
       "      <td>1968</td>\n",
       "      <td>3</td>\n",
       "    </tr>\n",
       "    <tr>\n",
       "      <th>16</th>\n",
       "      <td>1972</td>\n",
       "      <td>74</td>\n",
       "    </tr>\n",
       "    <tr>\n",
       "      <th>17</th>\n",
       "      <td>1980</td>\n",
       "      <td>184</td>\n",
       "    </tr>\n",
       "    <tr>\n",
       "      <th>18</th>\n",
       "      <td>1984</td>\n",
       "      <td>186</td>\n",
       "    </tr>\n",
       "    <tr>\n",
       "      <th>19</th>\n",
       "      <td>1988</td>\n",
       "      <td>28</td>\n",
       "    </tr>\n",
       "    <tr>\n",
       "      <th>20</th>\n",
       "      <td>1992</td>\n",
       "      <td>26</td>\n",
       "    </tr>\n",
       "    <tr>\n",
       "      <th>21</th>\n",
       "      <td>1996</td>\n",
       "      <td>148</td>\n",
       "    </tr>\n",
       "    <tr>\n",
       "      <th>22</th>\n",
       "      <td>2000</td>\n",
       "      <td>60</td>\n",
       "    </tr>\n",
       "    <tr>\n",
       "      <th>23</th>\n",
       "      <td>2004</td>\n",
       "      <td>8</td>\n",
       "    </tr>\n",
       "    <tr>\n",
       "      <th>24</th>\n",
       "      <td>2008</td>\n",
       "      <td>74</td>\n",
       "    </tr>\n",
       "    <tr>\n",
       "      <th>25</th>\n",
       "      <td>2012</td>\n",
       "      <td>46</td>\n",
       "    </tr>\n",
       "    <tr>\n",
       "      <th>26</th>\n",
       "      <td>2016</td>\n",
       "      <td>36</td>\n",
       "    </tr>\n",
       "  </tbody>\n",
       "</table>\n",
       "</div>"
      ],
      "text/plain": [
       "    Year  has_medal\n",
       "0   1900          2\n",
       "1   1904         29\n",
       "2   1906          1\n",
       "3   1908         25\n",
       "4   1912         15\n",
       "5   1920          4\n",
       "6   1924          6\n",
       "7   1928          1\n",
       "8   1932         39\n",
       "9   1936          7\n",
       "10  1948          1\n",
       "11  1952          6\n",
       "12  1956         16\n",
       "13  1960         33\n",
       "14  1964         32\n",
       "15  1968          3\n",
       "16  1972         74\n",
       "17  1980        184\n",
       "18  1984        186\n",
       "19  1988         28\n",
       "20  1992         26\n",
       "21  1996        148\n",
       "22  2000         60\n",
       "23  2004          8\n",
       "24  2008         74\n",
       "25  2012         46\n",
       "26  2016         36"
      ]
     },
     "execution_count": 58,
     "metadata": {},
     "output_type": "execute_result"
    }
   ],
   "source": [
    "host_gold = dataset_gold[dataset_gold[\"Won_host_country\"] == True].groupby('Year')['has_medal'].sum().to_frame()\n",
    "host_gold = host_gold.reset_index()\n",
    "host_gold"
   ]
  },
  {
   "cell_type": "code",
   "execution_count": 59,
   "metadata": {
    "tags": []
   },
   "outputs": [
    {
     "data": {
      "text/plain": [
       "<Axes: xlabel='Year', ylabel='has_medal'>"
      ]
     },
     "execution_count": 59,
     "metadata": {},
     "output_type": "execute_result"
    },
    {
     "data": {
      "image/png": "[encoded data removed]",
      "text/plain": [
       "<Figure size 640x480 with 1 Axes>"
      ]
     },
     "metadata": {},
     "output_type": "display_data"
    }
   ],
   "source": [
    "sns.scatterplot(x = host_gold['Year'], y = host_gold['has_medal'], color = 'red')"
   ]
  },
  {
   "cell_type": "markdown",
   "metadata": {
    "id": "5NEzsPxcuRjn"
   },
   "source": [
    "**Question 9 (Bonus)**: <br>\n",
    "**Display an interactive choropleth map with each country, where the number of medal for each country is displayed with color.**\n",
    "\n",
    "*Note: Use plotly's `px.choropleth()` function to make the map interactive with `locationmode='Country'`* <br>\n",
    "\n",
    "The `locationmode` parameter is used to specify how the locations are defined in plotly's choropleth map. <br>\n",
    "It determines how Plotly should interpret and match the locations in your data to the actual geographic locations on the map.\n",
    "\n",
    "You can also display the country map by taking the log10 of the number of medals."
   ]
  },
  {
   "cell_type": "code",
   "execution_count": null,
   "metadata": {
    "id": "r83IMGlcsuyJ"
   },
   "outputs": [],
   "source": []
  },
  {
   "cell_type": "code",
   "execution_count": null,
   "metadata": {
    "id": "TkOLMQK6sxaC"
   },
   "outputs": [],
   "source": []
  },
  {
   "cell_type": "code",
   "execution_count": null,
   "metadata": {
    "id": "3af4CqGCsxW4"
   },
   "outputs": [],
   "source": []
  },
  {
   "cell_type": "markdown",
   "metadata": {
    "id": "kz3j1D0c6eEK"
   },
   "source": [
    "## 3. Expert Data visualization\n",
    "\n",
    "The following question is also optional. Those who will complete it correctly will receive a bonus."
   ]
  },
  {
   "cell_type": "markdown",
   "metadata": {
    "id": "e32fcFbRHM0X"
   },
   "source": [
    "**Question 10 for expert** <br>\n",
    "Use the folium, branca and geopandas packages to create an interactive map (folium.map).<br>\n",
    "On this map, when you move the mouse over a country, a small display shows the country, the number of total medals, and the number of gold, silver and bronze medals. <br>\n",
    "For the shape of the countries, we'll use polygons isssu from the code provided below. <br>"
   ]
  },
  {
   "cell_type": "code",
   "execution_count": 70,
   "metadata": {
    "id": "sFQJ-btks0cF",
    "tags": []
   },
   "outputs": [
    {
     "name": "stdout",
     "output_type": "stream",
     "text": [
      "\u001b[2K   \u001b[90m━━━━━━━━━━━━━━━━━━━━━━━━━━━━━━━━━━━━━━━━\u001b[0m \u001b[32m323.6/323.6 kB\u001b[0m \u001b[31m5.8 MB/s\u001b[0m eta \u001b[36m0:00:00\u001b[0m:00:01\u001b[0m\n",
      "\u001b[2K   \u001b[90m━━━━━━━━━━━━━━━━━━━━━━━━━━━━━━━━━━━━━━━━\u001b[0m \u001b[32m23.1/23.1 MB\u001b[0m \u001b[31m72.6 MB/s\u001b[0m eta \u001b[36m0:00:00\u001b[0m:00:01\u001b[0m00:01\u001b[0m\n",
      "\u001b[2K   \u001b[90m━━━━━━━━━━━━━━━━━━━━━━━━━━━━━━━━━━━━━━━━\u001b[0m \u001b[32m8.3/8.3 MB\u001b[0m \u001b[31m81.2 MB/s\u001b[0m eta \u001b[36m0:00:00\u001b[0m:00:01\u001b[0m00:01\u001b[0m\n",
      "\u001b[2K   \u001b[90m━━━━━━━━━━━━━━━━━━━━━━━━━━━━━━━━━━━━━━━━\u001b[0m \u001b[32m2.5/2.5 MB\u001b[0m \u001b[31m51.9 MB/s\u001b[0m eta \u001b[36m0:00:00\u001b[0m:00:01\u001b[0m\n",
      "\u001b[?25h"
     ]
    }
   ],
   "source": [
    "!pip install geopandas --quiet"
   ]
  },
  {
   "cell_type": "code",
   "execution_count": 71,
   "metadata": {
    "id": "RegoN0SEGMph",
    "tags": []
   },
   "outputs": [
    {
     "ename": "TypeError",
     "evalue": "GeoJson.__init__() missing 1 required positional argument: 'data'",
     "output_type": "error",
     "traceback": [
      "\u001b[0;31m---------------------------------------------------------------------------\u001b[0m",
      "\u001b[0;31mTypeError\u001b[0m                                 Traceback (most recent call last)",
      "Cell \u001b[0;32mIn[71], line 24\u001b[0m\n\u001b[1;32m     16\u001b[0m \u001b[38;5;66;03m#Dataset to create\u001b[39;00m\n\u001b[1;32m     17\u001b[0m \u001b[38;5;66;03m#Usefull and style function to built\u001b[39;00m\n\u001b[1;32m     19\u001b[0m m \u001b[38;5;241m=\u001b[39m folium\u001b[38;5;241m.\u001b[39mMap(location\u001b[38;5;241m=\u001b[39m(\u001b[38;5;241m50\u001b[39m,\u001b[38;5;241m0\u001b[39m),zoom_start\u001b[38;5;241m=\u001b[39m\u001b[38;5;241m3\u001b[39m)\n\u001b[0;32m---> 24\u001b[0m Map_Layer \u001b[38;5;241m=\u001b[39m \u001b[43mfolium\u001b[49m\u001b[38;5;241;43m.\u001b[39;49m\u001b[43mGeoJson\u001b[49m\u001b[43m(\u001b[49m\u001b[38;5;66;43;03m##to complete\u001b[39;49;00m\n\u001b[1;32m     25\u001b[0m \u001b[43m)\u001b[49m\n\u001b[1;32m     29\u001b[0m plugins\u001b[38;5;241m.\u001b[39mSearch(\u001b[38;5;66;03m## To complete\u001b[39;00m\n\u001b[1;32m     30\u001b[0m         )\u001b[38;5;241m.\u001b[39madd_to(m)\n\u001b[1;32m     33\u001b[0m minimap \u001b[38;5;241m=\u001b[39m plugins\u001b[38;5;241m.\u001b[39mMiniMap()\n",
      "\u001b[0;31mTypeError\u001b[0m: GeoJson.__init__() missing 1 required positional argument: 'data'"
     ]
    }
   ],
   "source": [
    "from folium.plugins import Search\n",
    "from folium.plugins import HeatMap\n",
    "import branca\n",
    "import folium\n",
    "from folium import plugins\n",
    "import geopandas as gpd\n",
    "\n",
    "\n",
    "# For geographic plotting\n",
    "url = 'https://raw.githubusercontent.com/python-visualization/folium/master/examples/data'\n",
    "country_shapes = f'{url}/world-countries.json'\n",
    "global_polygons = gpd.read_file(country_shapes)\n",
    "global_polygons.to_file('global_polygons.geojson', driver = 'GeoJSON')\n",
    "\n",
    "\n",
    "#Dataset to create\n",
    "#Usefull and style function to built\n",
    "\n",
    "m = folium.Map(location=(50,0),zoom_start=3)\n",
    "\n",
    "\n",
    "\n",
    "\n",
    "Map_Layer = folium.GeoJson(##to complete\n",
    ")\n",
    "\n",
    "\n",
    "\n",
    "plugins.Search(## To complete\n",
    "        ).add_to(m)\n",
    "\n",
    "\n",
    "minimap = plugins.MiniMap()\n",
    "m.add_child(minimap)\n",
    "folium.LayerControl().add_to(m)\n",
    "colormap.add_to(m)\n",
    "m"
   ]
  },
  {
   "cell_type": "code",
   "execution_count": null,
   "metadata": {
    "id": "Ab4QsgLCsztl"
   },
   "outputs": [],
   "source": []
  },
  {
   "cell_type": "code",
   "execution_count": null,
   "metadata": {
    "id": "HhCU1JPuszrX"
   },
   "outputs": [],
   "source": []
  },
  {
   "cell_type": "markdown",
   "metadata": {
    "id": "EaCW0R_xtTIW"
   },
   "source": [
    "**Now you can display other graphs as you see fit.**"
   ]
  }
 ],
 "metadata": {
  "colab": {
   "provenance": []
  },
  "kernelspec": {
   "display_name": "Python 3 (ipykernel)",
   "language": "python",
   "name": "python3"
  },
  "language_info": {
   "codemirror_mode": {
    "name": "ipython",
    "version": 3
   },
   "file_extension": ".py",
   "mimetype": "text/x-python",
   "name": "python",
   "nbconvert_exporter": "python",
   "pygments_lexer": "ipython3",
   "version": "3.10.13"
  }
 },
 "nbformat": 4,
 "nbformat_minor": 4
}
